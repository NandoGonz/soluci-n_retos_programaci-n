{
 "cells": [
  {
   "cell_type": "code",
   "execution_count": 1,
   "id": "4f792310",
   "metadata": {},
   "outputs": [
    {
     "name": "stdout",
     "output_type": "stream",
     "text": [
      "29\n",
      "Hola mi nombres es Fernando y tengo 29 años # 2\n",
      "32\n",
      "Hola mi nombres es Fernando y tengo 32 años # 2\n",
      "La edad no puede ser negativa\n"
     ]
    }
   ],
   "source": [
    "class Person:\n",
    "    \"\"\"Clase person\"\"\"\n",
    "\n",
    "    def __init__(self, name: str, age: int):\n",
    "        self._name = name\n",
    "        self._age = age\n",
    "\n",
    "    @property\n",
    "    def age(self):\n",
    "        \"\"\"Método con decoradro para el getter\"\"\"\n",
    "        return self._age\n",
    "\n",
    "    @age.setter\n",
    "    def age(self, new_age: int):\n",
    "        \"\"\"Método con decorador para el setter\"\"\"\n",
    "        if new_age > 0:\n",
    "            self._age = new_age\n",
    "        else:\n",
    "            print(\"La edad no puede ser negativa\")\n",
    "\n",
    "    def greeting(self):\n",
    "        \"\"\"Método para presentar los atributos del onjeto en instancia\"\"\"\n",
    "        return f\"Hola mi nombres es {self._name} y tengo {self._age} años # 2\"\n",
    "\n",
    "\n",
    "p2 = Person(\"Fernando\", 29)\n",
    "print(p2.age)  # @property o getter\n",
    "print(p2.greeting())\n",
    "p2.age = 32  # @edad.setter\n",
    "print(p2.age)\n",
    "print(p2.greeting())\n",
    "p2.age = -4"
   ]
  }
 ],
 "metadata": {
  "kernelspec": {
   "display_name": "Python 3",
   "language": "python",
   "name": "python3"
  },
  "language_info": {
   "codemirror_mode": {
    "name": "ipython",
    "version": 3
   },
   "file_extension": ".py",
   "mimetype": "text/x-python",
   "name": "python",
   "nbconvert_exporter": "python",
   "pygments_lexer": "ipython3",
   "version": "3.13.5"
  }
 },
 "nbformat": 4,
 "nbformat_minor": 5
}
